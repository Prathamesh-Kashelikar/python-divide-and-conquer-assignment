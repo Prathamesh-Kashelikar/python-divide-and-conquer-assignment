{
  "cells": [
    {
      "cell_type": "markdown",
      "metadata": {
        "id": "view-in-github",
        "colab_type": "text"
      },
      "source": [
        "<a href=\"https://colab.research.google.com/github/Prathamesh-Kashelikar/python-divide-and-conquer-assignment/blob/main/python_divide_and_conquer_assignment.ipynb\" target=\"_parent\"><img src=\"https://colab.research.google.com/assets/colab-badge.svg\" alt=\"Open In Colab\"/></a>"
      ]
    },
    {
      "cell_type": "code",
      "execution_count": 116,
      "id": "d20ac651",
      "metadata": {
        "id": "d20ac651"
      },
      "outputs": [],
      "source": [
        "# Jovian Commit Essentials\n",
        "# Please retain and execute this cell without modifying the contents for `jovian.commit` to work\n",
        "!pip install jovian --upgrade -q\n",
        "import jovian\n",
        "jovian.set_project('python-divide-and-conquer-assignment')\n",
        "jovian.set_colab_id('1kxwzUQwcptP0yKw1FuwgoAgAid065x4x')"
      ]
    },
    {
      "cell_type": "markdown",
      "id": "difficult-valuation",
      "metadata": {
        "id": "difficult-valuation"
      },
      "source": [
        "# Assignment 3 - Divide-n-Conquer Algorithms in Python\n",
        "\n",
        "_This assignment is a part of the course [\"Data Structures and Algorithms in Python\"](https://jovian.ai/learn/data-structures-and-algorithms-in-python)._\n",
        "\n",
        "In this assignment, you will implement an efficient algorithm for polynomial multiplication.\n",
        "\n",
        "As you go through this notebook, you will find the symbol **???** in certain places. To complete this assignment, you must replace all the **???** with appropriate values, expressions or statements to ensure that the notebook runs properly end-to-end. \n",
        "\n",
        "**Guidelines**\n",
        "\n",
        "1. Make sure to run all the code cells, otherwise you may get errors like `NameError` for undefined variables.\n",
        "2. Do not change variable names, delete cells or disturb other existing code. It may cause problems during evaluation.\n",
        "3. In some cases, you may need to add some code cells or new statements before or after the line of code containing the **???**. \n",
        "4. Since you'll be using a temporary online service for code execution, save your work by running `jovian.commit` at regular intervals.\n",
        "5. Questions marked **(Optional)** will not be considered for evaluation, and can be skipped. They are for your learning.\n",
        "6. If you are stuck, you can ask for help on the [community forum] (TODO - add link). Post errors or ask for hints, but **please don't ask for OR share the full working answer code** on the forum.\n",
        "7. There are some tests included with this notebook to help you test your implementation. However, after submission your code will be tested with some hidden test cases. Make sure to test your code exhaustively to cover all edge cases.\n",
        "\n",
        "\n",
        "**Important Links**\n",
        "\n",
        "* Submit your work here: https://jovian.ai/learn/data-structures-and-algorithms-in-python/assignment/assignment-3-sorting-and-divide-conquer-practice\n",
        "* Ask questions and get help: https://jovian.ai/forum/c/data-structures-and-algorithms-in-python/assignment-3/89\n",
        "* Lesson 3 video for review: https://jovian.ai/learn/data-structures-and-algorithms-in-python/lesson/lesson-3-sorting-algorithms-and-divide-and-conquer\n",
        "* Lesson 3 notebook for review: https://jovian.ai/aakashns/python-sorting-divide-and-conquer\n"
      ]
    },
    {
      "cell_type": "markdown",
      "id": "japanese-beverage",
      "metadata": {
        "id": "japanese-beverage"
      },
      "source": [
        "### How to Run the Code and Save Your Work\n",
        "\n",
        "**Option 1: Running using free online resources (1-click, recommended)**: Click the **Run** button at the top of this page and select **Run on Binder**. You can also select \"Run on Colab\" or \"Run on Kaggle\", but you'll need to create an account on [Google Colab](https://colab.research.google.com) or [Kaggle](https://kaggle.com) to use these platforms.\n",
        "\n",
        "\n",
        "**Option 2: Running on your computer locally**: To run the code on your computer locally, you'll need to set up [Python](https://www.python.org) & [Conda](https://docs.conda.io/projects/conda/en/latest/user-guide/install/), download the notebook and install the required libraries. Click the **Run** button at the top of this page, select the **Run Locally** option, and follow the instructions.\n",
        "\n",
        "**Saving your work**: You can save a snapshot of the assignment to your [Jovian](https://jovian.ai) profile, so that you can access it later and continue your work. Keep saving your work by running `jovian.commit` from time to time."
      ]
    },
    {
      "cell_type": "code",
      "execution_count": 117,
      "id": "revised-italy",
      "metadata": {
        "id": "revised-italy"
      },
      "outputs": [],
      "source": [
        "project='python-divide-and-conquer-assignment'"
      ]
    },
    {
      "cell_type": "code",
      "execution_count": 118,
      "id": "genuine-simon",
      "metadata": {
        "id": "genuine-simon"
      },
      "outputs": [],
      "source": [
        "!pip install jovian --upgrade --quiet"
      ]
    },
    {
      "cell_type": "code",
      "execution_count": 119,
      "id": "velvet-extraction",
      "metadata": {
        "colab": {
          "base_uri": "https://localhost:8080/",
          "height": 107
        },
        "id": "velvet-extraction",
        "outputId": "a02fcadf-e548-4e80-878d-893b8bfd1501"
      },
      "outputs": [
        {
          "output_type": "stream",
          "name": "stdout",
          "text": [
            "[jovian] Detected Colab notebook...\u001b[0m\n",
            "[jovian] Uploading colab notebook to Jovian...\u001b[0m\n",
            "Committed successfully! https://jovian.ai/prathamesh-kashelikar/python-divide-and-conquer-assignment\n"
          ]
        },
        {
          "output_type": "execute_result",
          "data": {
            "text/plain": [
              "'https://jovian.ai/prathamesh-kashelikar/python-divide-and-conquer-assignment'"
            ],
            "application/vnd.google.colaboratory.intrinsic+json": {
              "type": "string"
            }
          },
          "metadata": {},
          "execution_count": 119
        }
      ],
      "source": [
        "import jovian\n",
        "jovian.commit(project=project, privacy='secret', environment=None)"
      ]
    },
    {
      "cell_type": "markdown",
      "id": "final-database",
      "metadata": {
        "id": "final-database"
      },
      "source": [
        "## Problem Statement - Polynomial Multiplication\n",
        "\n",
        "> Given two polynomials represented by two lists, write a function that efficiently multiplies given two polynomials. For example, the lists `[2, 0, 5, 7]` and `[3, 4, 2]` represent the polynomials $2 + 5x^2 + 7x^3$ and $3 + 4x + 2x^2$. \n",
        "> \n",
        "> Their product is \n",
        ">\n",
        "> $(2 \\times 3) + (2 \\times 4 + 0 \\times 3)x + (2 \\times 2 + 3 \\times 5 + 4 \\times 0)x^2 + (7 \\times 3 + 5 \\times 4 + 0 \\times 2)x^3 + (7 \\times 4 + 5 \\times 2)x^4 + (7 \\times 2)x^5$ i.e. \n",
        ">\n",
        ">$6 + 8x + 19x^2 + 41x^3 + 38x^4 + 14x^5$\n",
        "> \n",
        ">It can be represented by the list `[6, 8, 19, 41, 38, 14]`.\n"
      ]
    },
    {
      "cell_type": "markdown",
      "id": "completed-evolution",
      "metadata": {
        "id": "completed-evolution"
      },
      "source": [
        "## The Method\n",
        "\n",
        "Here's the systematic strategy we'll apply for solving problems:\n",
        "\n",
        "1. State the problem clearly. Identify the input & output formats.\n",
        "2. Come up with some example inputs & outputs. Try to cover all edge cases.\n",
        "3. Come up with a correct solution for the problem. State it in plain English.\n",
        "4. Implement the solution and test it using example inputs. Fix bugs, if any.\n",
        "5. Analyze the algorithm's complexity and identify inefficiencies, if any.\n",
        "6. Apply the right technique to overcome the inefficiency. Repeat steps 3 to 6.\n",
        "\n",
        "This approach is explained in detail in [Lesson 1](https://jovian.ai/learn/data-structures-and-algorithms-in-python/lesson/lesson-1-binary-search-linked-lists-and-complexity) of the course. Let's apply this approach step-by-step."
      ]
    },
    {
      "cell_type": "markdown",
      "id": "compressed-intellectual",
      "metadata": {
        "id": "compressed-intellectual"
      },
      "source": [
        "## Solution\n",
        "\n",
        "\n",
        "### 1. State the problem clearly. Identify the input & output formats.\n",
        "\n",
        "While this problem is stated clearly enough, it's always useful to try and express in your own words, in a way that makes it most clear for you. \n",
        "\n",
        "\n",
        "**Problem**\n",
        "\n",
        "> Given 2 polynomials in the form of list and we have to perform multiplication of those 2 polynomials and represent the answer in the form of list back\n",
        "\n",
        "<br/>\n",
        "\n",
        "\n",
        "**Input**\n",
        "\n",
        "1. `[2,1,3]`\n",
        "2. `[4,1,2,3]`\n",
        "\n",
        "\n",
        "\n",
        "**Output**\n",
        "\n",
        "1. `[8,6,17,11,9,9]`\n",
        "\n",
        "\n",
        "<br/>\n",
        "\n",
        "Based on the above, we can now create a signature of our function:"
      ]
    },
    {
      "cell_type": "code",
      "execution_count": 120,
      "id": "frank-professor",
      "metadata": {
        "id": "frank-professor"
      },
      "outputs": [],
      "source": [
        "def multiply(poly1, poly2):\n",
        "    pass"
      ]
    },
    {
      "cell_type": "code",
      "execution_count": 121,
      "id": "unauthorized-amendment",
      "metadata": {
        "id": "unauthorized-amendment"
      },
      "outputs": [],
      "source": [
        "import jovian"
      ]
    },
    {
      "cell_type": "code",
      "execution_count": 122,
      "id": "exposed-extension",
      "metadata": {
        "colab": {
          "base_uri": "https://localhost:8080/",
          "height": 107
        },
        "id": "exposed-extension",
        "outputId": "f79e2586-87c2-44b5-de3c-036ba7e7bbd7"
      },
      "outputs": [
        {
          "output_type": "stream",
          "name": "stdout",
          "text": [
            "[jovian] Detected Colab notebook...\u001b[0m\n",
            "[jovian] Uploading colab notebook to Jovian...\u001b[0m\n",
            "Committed successfully! https://jovian.ai/prathamesh-kashelikar/python-divide-and-conquer-assignment\n"
          ]
        },
        {
          "output_type": "execute_result",
          "data": {
            "text/plain": [
              "'https://jovian.ai/prathamesh-kashelikar/python-divide-and-conquer-assignment'"
            ],
            "application/vnd.google.colaboratory.intrinsic+json": {
              "type": "string"
            }
          },
          "metadata": {},
          "execution_count": 122
        }
      ],
      "source": [
        "jovian.commit()"
      ]
    },
    {
      "cell_type": "markdown",
      "id": "latin-choir",
      "metadata": {
        "id": "latin-choir"
      },
      "source": [
        "### 2. Come up with some example inputs & outputs. Try to cover all edge cases.\n",
        "\n",
        "Our function should be able to handle any set of valid inputs we pass into it. List a few scenarios here:\n",
        "\n",
        "1. Empty list\n",
        "2. List with only 1 element\n",
        "3. list with negative elements\n",
        "4. 1 list with all 0s\n",
        "5. poly 2 with higher exponent\n",
        "\n",
        "(add more if required)\n",
        "\n",
        "\n",
        "Create a test case of each of the above scenarios. We'll express our test cases as dictionaries, to test them easily. Each dictionary will contain 2 keys: `input` (a dictionary itself containing one key for each argument to the function and `output` (the expected result from the function). "
      ]
    },
    {
      "cell_type": "code",
      "execution_count": 123,
      "id": "fancy-exhaust",
      "metadata": {
        "id": "fancy-exhaust"
      },
      "outputs": [],
      "source": [
        "test0 = {\n",
        "    'input': {\n",
        "        'poly1': [2, 0, 5, 7],\n",
        "        'poly2': [3, 4, 2]\n",
        "    },\n",
        "    'output': [6, 8, 19, 41, 38, 14]\n",
        "}"
      ]
    },
    {
      "cell_type": "code",
      "execution_count": 124,
      "id": "featured-poster",
      "metadata": {
        "id": "featured-poster"
      },
      "outputs": [],
      "source": [
        "test1 = {\n",
        "    'input': {\n",
        "        'poly1': [],\n",
        "        'poly2': [2,1,4]\n",
        "    },\n",
        "    'output': []\n",
        "}"
      ]
    },
    {
      "cell_type": "code",
      "execution_count": 125,
      "id": "matched-horizon",
      "metadata": {
        "id": "matched-horizon"
      },
      "outputs": [],
      "source": [
        "test2 = {\n",
        "    'input': {\n",
        "        'poly1': [2],\n",
        "        'poly2': [1,2,3]\n",
        "    },\n",
        "    'output': [2,4,6]\n",
        "}"
      ]
    },
    {
      "cell_type": "code",
      "execution_count": 126,
      "id": "functional-personal",
      "metadata": {
        "id": "functional-personal"
      },
      "outputs": [],
      "source": [
        "test3 = {\n",
        "    'input': {\n",
        "        'poly1': [1,-2,3,1],\n",
        "        'poly2': [1,2,3]\n",
        "    },\n",
        "    'output': [1,0,2,1,11,3]\n",
        "}"
      ]
    },
    {
      "cell_type": "code",
      "execution_count": 127,
      "id": "useful-alaska",
      "metadata": {
        "id": "useful-alaska"
      },
      "outputs": [],
      "source": [
        "test4 = {\n",
        "    'input': {\n",
        "        'poly1': [0,0,0],\n",
        "        'poly2': [2,1,4,1]\n",
        "    },\n",
        "    'output': [0,0,0,0,0,0]\n",
        "}"
      ]
    },
    {
      "cell_type": "code",
      "execution_count": 128,
      "id": "split-opportunity",
      "metadata": {
        "id": "split-opportunity"
      },
      "outputs": [],
      "source": [
        "test5 = {\n",
        "    'input': {\n",
        "        'poly1': [1,2,3],\n",
        "        'poly2': [2,2,2,2]\n",
        "    },\n",
        "    'output': [2,6,12,12,10,6]\n",
        "}"
      ]
    },
    {
      "cell_type": "code",
      "execution_count": null,
      "id": "promotional-donor",
      "metadata": {
        "id": "promotional-donor"
      },
      "outputs": [],
      "source": [
        "# add more if required"
      ]
    },
    {
      "cell_type": "code",
      "execution_count": null,
      "id": "visible-object",
      "metadata": {
        "id": "visible-object"
      },
      "outputs": [],
      "source": [
        ""
      ]
    },
    {
      "cell_type": "code",
      "execution_count": null,
      "id": "little-dating",
      "metadata": {
        "id": "little-dating"
      },
      "outputs": [],
      "source": [
        ""
      ]
    },
    {
      "cell_type": "markdown",
      "id": "extreme-membrane",
      "metadata": {
        "id": "extreme-membrane"
      },
      "source": [
        "Let's store all the test cases in a list, for easier automated testing."
      ]
    },
    {
      "cell_type": "code",
      "execution_count": 129,
      "id": "emerging-request",
      "metadata": {
        "id": "emerging-request"
      },
      "outputs": [],
      "source": [
        "tests = [test1,test2,test3,test4,test5]"
      ]
    },
    {
      "cell_type": "code",
      "execution_count": 130,
      "id": "noted-tribute",
      "metadata": {
        "colab": {
          "base_uri": "https://localhost:8080/"
        },
        "id": "noted-tribute",
        "outputId": "c083cdb7-002e-4a8b-cf88-1d3254ac0239"
      },
      "outputs": [
        {
          "output_type": "execute_result",
          "data": {
            "text/plain": [
              "[{'input': {'poly1': [], 'poly2': [2, 1, 4]}, 'output': []},\n",
              " {'input': {'poly1': [2], 'poly2': [1, 2, 3]}, 'output': [2, 4, 6]},\n",
              " {'input': {'poly1': [1, -2, 3, 1], 'poly2': [1, 2, 3]},\n",
              "  'output': [1, 0, 2, 1, 11, 3]},\n",
              " {'input': {'poly1': [0, 0, 0], 'poly2': [2, 1, 4, 1]},\n",
              "  'output': [0, 0, 0, 0, 0, 0]},\n",
              " {'input': {'poly1': [1, 2, 3], 'poly2': [2, 2, 2, 2]},\n",
              "  'output': [2, 6, 12, 12, 10, 6]}]"
            ]
          },
          "metadata": {},
          "execution_count": 130
        }
      ],
      "source": [
        "tests"
      ]
    },
    {
      "cell_type": "code",
      "execution_count": null,
      "id": "demanding-throw",
      "metadata": {
        "id": "demanding-throw"
      },
      "outputs": [],
      "source": [
        ""
      ]
    },
    {
      "cell_type": "code",
      "execution_count": null,
      "id": "ongoing-bunch",
      "metadata": {
        "id": "ongoing-bunch"
      },
      "outputs": [],
      "source": [
        ""
      ]
    },
    {
      "cell_type": "code",
      "execution_count": 131,
      "id": "connected-favor",
      "metadata": {
        "id": "connected-favor"
      },
      "outputs": [],
      "source": [
        "import jovian"
      ]
    },
    {
      "cell_type": "code",
      "execution_count": 132,
      "id": "brave-bracelet",
      "metadata": {
        "colab": {
          "base_uri": "https://localhost:8080/",
          "height": 107
        },
        "id": "brave-bracelet",
        "outputId": "13915f7e-dadf-402e-8ac5-4d6a7b8df7d1"
      },
      "outputs": [
        {
          "output_type": "stream",
          "name": "stdout",
          "text": [
            "[jovian] Detected Colab notebook...\u001b[0m\n",
            "[jovian] Uploading colab notebook to Jovian...\u001b[0m\n",
            "Committed successfully! https://jovian.ai/prathamesh-kashelikar/python-divide-and-conquer-assignment\n"
          ]
        },
        {
          "output_type": "execute_result",
          "data": {
            "text/plain": [
              "'https://jovian.ai/prathamesh-kashelikar/python-divide-and-conquer-assignment'"
            ],
            "application/vnd.google.colaboratory.intrinsic+json": {
              "type": "string"
            }
          },
          "metadata": {},
          "execution_count": 132
        }
      ],
      "source": [
        "jovian.commit()"
      ]
    },
    {
      "cell_type": "markdown",
      "id": "satellite-exclusion",
      "metadata": {
        "id": "satellite-exclusion"
      },
      "source": [
        "### 3. Come up with a correct solution for the problem. State it in plain English.\n",
        "\n",
        "Our first goal should always be to come up with a _correct_ solution to the problem, which may not necessarily be the most _efficient_ solution. \n",
        "\n",
        "Here's the simplest solution: If you have lists `poly1` and `poly2` representing polynomials of length $m$ and $n$ respectively, the highest degree of the exponents are $m-1$ and $n-1$ respectively. Their product has the degree $(m - 1) + (n - 1)$ i.e $m + n - 2$. The list representing the product has the length $m + n - 1$. So, we can create a list `result` of length $m + n - 1$, and set \n",
        "\n",
        "`result[k]` = Sum of all the pairs `poly1[i] * poly2[j]` where `i+j = k`\n",
        "\n",
        "Example:\n",
        "\n",
        "$(2 + 5x^2 + 7x^3) \\times (3 + 4x + 2x^2)$\n",
        "\n",
        "$= (2 \\times 3) + (2 \\times 4 + 0 \\times 3)x + (2 \\times 2 + 3 \\times 5 + 4 \\times 0)x^2 + (7 \\times 3 + 5 \\times 4 + 0 \\times 2)x^3 + (7 \\times 4 + 5 \\times 2)x^4 + (7 \\times 2)x^5$\n",
        "\n",
        "$= 6 + 8x + 19x^2 + 41x^3 + 38x^4 + 14x^5$\n",
        "\n",
        "\n",
        "\n",
        "\n",
        "\n",
        "\n",
        "Explain this solution in your own words below:\n",
        "\n",
        "1. Create result list of kth order\n",
        "2. from k = 0 to k = m+n-1 value we will run a loop\n",
        "3. in loop we will multiply all ith and jth elements where i+j = k and add those values\n",
        "4. that value will be the kth value of result\n",
        "5. **???**\n",
        "\n",
        "(add more steps if required)\n",
        "\n",
        "\n",
        "Let's save and upload our work before continuing.\n",
        "\n"
      ]
    },
    {
      "cell_type": "code",
      "execution_count": 133,
      "id": "relevant-initial",
      "metadata": {
        "id": "relevant-initial"
      },
      "outputs": [],
      "source": [
        "import jovian"
      ]
    },
    {
      "cell_type": "code",
      "execution_count": 134,
      "id": "fatty-rolling",
      "metadata": {
        "colab": {
          "base_uri": "https://localhost:8080/",
          "height": 107
        },
        "id": "fatty-rolling",
        "outputId": "48738a09-0296-4e4a-ea31-24b364c5f273"
      },
      "outputs": [
        {
          "output_type": "stream",
          "name": "stdout",
          "text": [
            "[jovian] Detected Colab notebook...\u001b[0m\n",
            "[jovian] Uploading colab notebook to Jovian...\u001b[0m\n",
            "Committed successfully! https://jovian.ai/prathamesh-kashelikar/python-divide-and-conquer-assignment\n"
          ]
        },
        {
          "output_type": "execute_result",
          "data": {
            "text/plain": [
              "'https://jovian.ai/prathamesh-kashelikar/python-divide-and-conquer-assignment'"
            ],
            "application/vnd.google.colaboratory.intrinsic+json": {
              "type": "string"
            }
          },
          "metadata": {},
          "execution_count": 134
        }
      ],
      "source": [
        "jovian.commit()"
      ]
    },
    {
      "cell_type": "markdown",
      "id": "lucky-boxing",
      "metadata": {
        "id": "lucky-boxing"
      },
      "source": [
        "###  4. Implement the solution and test it using example inputs. Fix bugs, if any.\n",
        "\n",
        "Implement the solution"
      ]
    },
    {
      "cell_type": "code",
      "execution_count": 147,
      "id": "grateful-chile",
      "metadata": {
        "id": "grateful-chile"
      },
      "outputs": [],
      "source": [
        "def multiply_basic(poly1, poly2):\n",
        "    if poly1 == [] or poly2 == []:\n",
        "      return []\n",
        "    else :\n",
        "      k = len(poly1)+len(poly2)-1\n",
        "      value = 0 \n",
        "      # print(k)\n",
        "      result = [0]*k\n",
        "      # print(result)\n",
        "      for order in range(k):\n",
        "        for i in range(len(poly1)):\n",
        "          for j in range(len(poly2)):\n",
        "            if i+j == order:\n",
        "              # print(\"order = \",order)\n",
        "              # print(\"i = {} , j = {}\".format(i,j))\n",
        "              value += poly1[i]*poly2[j]\n",
        "        # print(value)\n",
        "        result[order] = value\n",
        "        value = 0\n",
        "      return result"
      ]
    },
    {
      "cell_type": "markdown",
      "id": "casual-bicycle",
      "metadata": {
        "id": "casual-bicycle"
      },
      "source": [
        "Test your solution using the test cases you've defined above."
      ]
    },
    {
      "cell_type": "code",
      "execution_count": 148,
      "id": "sunset-motor",
      "metadata": {
        "colab": {
          "base_uri": "https://localhost:8080/"
        },
        "id": "sunset-motor",
        "outputId": "9da652bd-8c83-407b-842c-1c3ee5ec86b0"
      },
      "outputs": [
        {
          "output_type": "execute_result",
          "data": {
            "text/plain": [
              "[6, 8, 19, 41, 38, 14]"
            ]
          },
          "metadata": {},
          "execution_count": 148
        }
      ],
      "source": [
        "multiply_basic(test0['input']['poly1'],test0['input']['poly2'])"
      ]
    },
    {
      "cell_type": "code",
      "execution_count": 149,
      "id": "earned-sending",
      "metadata": {
        "colab": {
          "base_uri": "https://localhost:8080/"
        },
        "id": "earned-sending",
        "outputId": "bee44946-ded5-4a06-c88b-fe3f052aa73f"
      },
      "outputs": [
        {
          "output_type": "stream",
          "name": "stdout",
          "text": [
            "[]\n",
            "[2, 4, 6]\n",
            "[1, 0, 2, 1, 11, 3]\n",
            "[0, 0, 0, 0, 0, 0]\n",
            "[2, 6, 12, 12, 10, 6]\n"
          ]
        }
      ],
      "source": [
        "for test in tests:\n",
        "  result = multiply_basic(test['input']['poly1'],test['input']['poly2'])\n",
        "  print(result)"
      ]
    },
    {
      "cell_type": "code",
      "execution_count": 150,
      "id": "neutral-conducting",
      "metadata": {
        "colab": {
          "base_uri": "https://localhost:8080/"
        },
        "id": "neutral-conducting",
        "outputId": "b2966f9b-1065-451f-ca49-81b01878bc87"
      },
      "outputs": [
        {
          "output_type": "stream",
          "name": "stdout",
          "text": [
            "True\n",
            "True\n",
            "True\n",
            "True\n",
            "True\n"
          ]
        }
      ],
      "source": [
        "for test in tests:\n",
        "  print(multiply_basic(test['input']['poly1'],test['input']['poly2'])==test['output'])"
      ]
    },
    {
      "cell_type": "code",
      "execution_count": 151,
      "id": "southwest-olympus",
      "metadata": {
        "id": "southwest-olympus"
      },
      "outputs": [],
      "source": [
        "from jovian.pythondsa import evaluate_test_cases"
      ]
    },
    {
      "cell_type": "code",
      "execution_count": 152,
      "id": "blind-nitrogen",
      "metadata": {
        "colab": {
          "base_uri": "https://localhost:8080/"
        },
        "id": "blind-nitrogen",
        "outputId": "2731f761-f866-49ed-9ed7-c17e970a295f"
      },
      "outputs": [
        {
          "output_type": "stream",
          "name": "stdout",
          "text": [
            "\n",
            "\u001b[1mTEST CASE #0\u001b[0m\n",
            "\n",
            "Input:\n",
            "{'poly1': [], 'poly2': [2, 1, 4]}\n",
            "\n",
            "Expected Output:\n",
            "[]\n",
            "\n",
            "\n",
            "Actual Output:\n",
            "[]\n",
            "\n",
            "Execution Time:\n",
            "0.003 ms\n",
            "\n",
            "Test Result:\n",
            "\u001b[92mPASSED\u001b[0m\n",
            "\n",
            "\n",
            "\u001b[1mTEST CASE #1\u001b[0m\n",
            "\n",
            "Input:\n",
            "{'poly1': [2], 'poly2': [1, 2, 3]}\n",
            "\n",
            "Expected Output:\n",
            "[2, 4, 6]\n",
            "\n",
            "\n",
            "Actual Output:\n",
            "[2, 4, 6]\n",
            "\n",
            "Execution Time:\n",
            "0.011 ms\n",
            "\n",
            "Test Result:\n",
            "\u001b[92mPASSED\u001b[0m\n",
            "\n",
            "\n",
            "\u001b[1mTEST CASE #2\u001b[0m\n",
            "\n",
            "Input:\n",
            "{'poly1': [1, -2, 3, 1], 'poly2': [1, 2, 3]}\n",
            "\n",
            "Expected Output:\n",
            "[1, 0, 2, 1, 11, 3]\n",
            "\n",
            "\n",
            "Actual Output:\n",
            "[1, 0, 2, 1, 11, 3]\n",
            "\n",
            "Execution Time:\n",
            "0.024 ms\n",
            "\n",
            "Test Result:\n",
            "\u001b[92mPASSED\u001b[0m\n",
            "\n",
            "\n",
            "\u001b[1mTEST CASE #3\u001b[0m\n",
            "\n",
            "Input:\n",
            "{'poly1': [0, 0, 0], 'poly2': [2, 1, 4, 1]}\n",
            "\n",
            "Expected Output:\n",
            "[0, 0, 0, 0, 0, 0]\n",
            "\n",
            "\n",
            "Actual Output:\n",
            "[0, 0, 0, 0, 0, 0]\n",
            "\n",
            "Execution Time:\n",
            "0.022 ms\n",
            "\n",
            "Test Result:\n",
            "\u001b[92mPASSED\u001b[0m\n",
            "\n",
            "\n",
            "\u001b[1mTEST CASE #4\u001b[0m\n",
            "\n",
            "Input:\n",
            "{'poly1': [1, 2, 3], 'poly2': [2, 2, 2, 2]}\n",
            "\n",
            "Expected Output:\n",
            "[2, 6, 12, 12, 10, 6]\n",
            "\n",
            "\n",
            "Actual Output:\n",
            "[2, 6, 12, 12, 10, 6]\n",
            "\n",
            "Execution Time:\n",
            "0.022 ms\n",
            "\n",
            "Test Result:\n",
            "\u001b[92mPASSED\u001b[0m\n",
            "\n",
            "\n",
            "\u001b[1mSUMMARY\u001b[0m\n",
            "\n",
            "TOTAL: 5, \u001b[92mPASSED\u001b[0m: 5, \u001b[91mFAILED\u001b[0m: 0\n"
          ]
        },
        {
          "output_type": "execute_result",
          "data": {
            "text/plain": [
              "[([], True, 0.003),\n",
              " ([2, 4, 6], True, 0.011),\n",
              " ([1, 0, 2, 1, 11, 3], True, 0.024),\n",
              " ([0, 0, 0, 0, 0, 0], True, 0.022),\n",
              " ([2, 6, 12, 12, 10, 6], True, 0.022)]"
            ]
          },
          "metadata": {},
          "execution_count": 152
        }
      ],
      "source": [
        "evaluate_test_cases(multiply_basic,tests)"
      ]
    },
    {
      "cell_type": "code",
      "execution_count": 153,
      "id": "lined-expense",
      "metadata": {
        "id": "lined-expense"
      },
      "outputs": [],
      "source": [
        "import jovian"
      ]
    },
    {
      "cell_type": "code",
      "execution_count": 154,
      "id": "recreational-regulation",
      "metadata": {
        "colab": {
          "base_uri": "https://localhost:8080/",
          "height": 107
        },
        "id": "recreational-regulation",
        "outputId": "3dde18e1-daaa-4cf4-d102-58f2b79ab035"
      },
      "outputs": [
        {
          "output_type": "stream",
          "name": "stdout",
          "text": [
            "[jovian] Detected Colab notebook...\u001b[0m\n",
            "[jovian] Uploading colab notebook to Jovian...\u001b[0m\n",
            "Committed successfully! https://jovian.ai/prathamesh-kashelikar/python-divide-and-conquer-assignment\n"
          ]
        },
        {
          "output_type": "execute_result",
          "data": {
            "text/plain": [
              "'https://jovian.ai/prathamesh-kashelikar/python-divide-and-conquer-assignment'"
            ],
            "application/vnd.google.colaboratory.intrinsic+json": {
              "type": "string"
            }
          },
          "metadata": {},
          "execution_count": 154
        }
      ],
      "source": [
        "jovian.commit()"
      ]
    },
    {
      "cell_type": "markdown",
      "id": "associate-platform",
      "metadata": {
        "id": "associate-platform"
      },
      "source": [
        "### 5. Analyze the algorithm's complexity and identify inefficiencies, if any.\n",
        "\n",
        "Can you analyze the time and space complexity of this algorithm?"
      ]
    },
    {
      "cell_type": "code",
      "execution_count": null,
      "id": "aerial-motorcycle",
      "metadata": {
        "id": "aerial-motorcycle"
      },
      "outputs": [],
      "source": [
        "multiply_basic_time_complexity = 'O(???)'"
      ]
    },
    {
      "cell_type": "code",
      "execution_count": null,
      "id": "sustained-chicago",
      "metadata": {
        "id": "sustained-chicago"
      },
      "outputs": [],
      "source": [
        "multiply_basic_space_complexity = 'O(???)'"
      ]
    },
    {
      "cell_type": "code",
      "execution_count": null,
      "id": "stunning-paradise",
      "metadata": {
        "id": "stunning-paradise"
      },
      "outputs": [],
      "source": [
        ""
      ]
    },
    {
      "cell_type": "code",
      "execution_count": 155,
      "id": "accompanied-thailand",
      "metadata": {
        "id": "accompanied-thailand"
      },
      "outputs": [],
      "source": [
        "import jovian"
      ]
    },
    {
      "cell_type": "code",
      "execution_count": 156,
      "id": "egyptian-stranger",
      "metadata": {
        "colab": {
          "base_uri": "https://localhost:8080/",
          "height": 107
        },
        "id": "egyptian-stranger",
        "outputId": "55cefe5c-b826-4c57-f04c-fc6283de8e13"
      },
      "outputs": [
        {
          "output_type": "stream",
          "name": "stdout",
          "text": [
            "[jovian] Detected Colab notebook...\u001b[0m\n",
            "[jovian] Uploading colab notebook to Jovian...\u001b[0m\n",
            "Committed successfully! https://jovian.ai/prathamesh-kashelikar/python-divide-and-conquer-assignment\n"
          ]
        },
        {
          "output_type": "execute_result",
          "data": {
            "text/plain": [
              "'https://jovian.ai/prathamesh-kashelikar/python-divide-and-conquer-assignment'"
            ],
            "application/vnd.google.colaboratory.intrinsic+json": {
              "type": "string"
            }
          },
          "metadata": {},
          "execution_count": 156
        }
      ],
      "source": [
        "jovian.commit()"
      ]
    },
    {
      "cell_type": "markdown",
      "id": "honey-desire",
      "metadata": {
        "id": "honey-desire"
      },
      "source": [
        "### 6. Apply the right technique to overcome the inefficiency. Repeat steps 3 to 6.\n",
        "\n",
        "We can apply the divide and conquer technique to solve this problem more efficiently. Given two polynomials `A` and `B`, we can express each of them as a sum of two polynomials as follows:\n",
        "\n",
        "<img src=\"https://i.imgur.com/FjKQF5h.png\" width=\"480\">\n",
        "\n",
        "We need to compute the terms `A0 * B0`, `A1 * B0 + A0 * B1` and `A1 * B1`. This can obviously be done using 4 multiplications, but here's a way of doing it with just three multiplications:\n",
        "\n",
        "<img src=\"https://i.imgur.com/G3vD1GX.png\" width=\"480\">\n",
        "\n",
        "\n",
        "Each of the products can themselves be computed recursively. For a more detailed explanation of this approach see http://www.cse.ust.hk/~dekai/271/notes/L03/L03.pdf .\n",
        "\n",
        "\n",
        "Need help? Discuss and ask questions on the forum: https://jovian.ai/forum/c/data-structures-and-algorithms-in-python/assignment-3/89\n"
      ]
    },
    {
      "cell_type": "markdown",
      "id": "parliamentary-spray",
      "metadata": {
        "id": "parliamentary-spray"
      },
      "source": [
        "### 7. Come up with a correct solution for the problem. State it in plain English.\n",
        "\n",
        "Explain the approach described above in your own words below:\n",
        "\n",
        "1. Split\n",
        "2. Multiply recursively\n",
        "3. Combine\n",
        "4. **???**\n",
        "5. **???**\n",
        "\n",
        "(add more steps if required)\n",
        "\n",
        "\n",
        "Let's save and upload our work before continuing."
      ]
    },
    {
      "cell_type": "code",
      "execution_count": 157,
      "id": "recreational-occurrence",
      "metadata": {
        "id": "recreational-occurrence"
      },
      "outputs": [],
      "source": [
        "import jovian"
      ]
    },
    {
      "cell_type": "code",
      "execution_count": 158,
      "id": "flexible-snake",
      "metadata": {
        "colab": {
          "base_uri": "https://localhost:8080/",
          "height": 107
        },
        "id": "flexible-snake",
        "outputId": "d7a3809d-68e0-4117-d834-381e0260a863"
      },
      "outputs": [
        {
          "output_type": "stream",
          "name": "stdout",
          "text": [
            "[jovian] Detected Colab notebook...\u001b[0m\n",
            "[jovian] Uploading colab notebook to Jovian...\u001b[0m\n",
            "Committed successfully! https://jovian.ai/prathamesh-kashelikar/python-divide-and-conquer-assignment\n"
          ]
        },
        {
          "output_type": "execute_result",
          "data": {
            "text/plain": [
              "'https://jovian.ai/prathamesh-kashelikar/python-divide-and-conquer-assignment'"
            ],
            "application/vnd.google.colaboratory.intrinsic+json": {
              "type": "string"
            }
          },
          "metadata": {},
          "execution_count": 158
        }
      ],
      "source": [
        "jovian.commit()"
      ]
    },
    {
      "cell_type": "markdown",
      "id": "corresponding-gasoline",
      "metadata": {
        "id": "corresponding-gasoline"
      },
      "source": [
        "### 8. Implement the solution and test it using example inputs. Fix bugs, if any.\n",
        "\n",
        "We are now ready to implement the solution. You may find the following functions `add`, `split` and `increase_exponent` useful.\n"
      ]
    },
    {
      "cell_type": "code",
      "execution_count": 159,
      "id": "planned-budapest",
      "metadata": {
        "id": "planned-budapest"
      },
      "outputs": [],
      "source": [
        "def add(poly1, poly2):\n",
        "    \"\"\"Add two polynomials\"\"\"\n",
        "    result = [0] * max(len(poly1), len(poly2))\n",
        "    for i in range(len(result)):\n",
        "        if i < len(poly1):\n",
        "            result[i] += poly1[i]\n",
        "        if i < len(poly2):\n",
        "            result[i] += poly2[i]\n",
        "    return result"
      ]
    },
    {
      "cell_type": "code",
      "execution_count": 160,
      "id": "amazing-sympathy",
      "metadata": {
        "colab": {
          "base_uri": "https://localhost:8080/"
        },
        "id": "amazing-sympathy",
        "outputId": "a2d245ef-17fa-4369-c8ac-3730a1716b8a"
      },
      "outputs": [
        {
          "output_type": "execute_result",
          "data": {
            "text/plain": [
              "[1, 6, 6, 4]"
            ]
          },
          "metadata": {},
          "execution_count": 160
        }
      ],
      "source": [
        "add([1, 2, 3, 4], [0, 4, 3])"
      ]
    },
    {
      "cell_type": "code",
      "execution_count": 161,
      "id": "objective-stone",
      "metadata": {
        "id": "objective-stone"
      },
      "outputs": [],
      "source": [
        "def split(poly1, poly2):\n",
        "    \"\"\"Split each polynomial into two smaller polynomials\"\"\"\n",
        "    mid = max(len(poly1), len(poly2)) // 2\n",
        "    return  (poly1[:mid], poly1[mid:]), (poly2[:mid], poly2[mid:])"
      ]
    },
    {
      "cell_type": "code",
      "execution_count": 162,
      "id": "saving-folder",
      "metadata": {
        "colab": {
          "base_uri": "https://localhost:8080/"
        },
        "id": "saving-folder",
        "outputId": "5759c83e-bde0-42a5-8f8b-1da8a4e4a2dd"
      },
      "outputs": [
        {
          "output_type": "execute_result",
          "data": {
            "text/plain": [
              "(([1, 2, 3], [4]), ([0, 4, 3], [6, 7, 8, 2]))"
            ]
          },
          "metadata": {},
          "execution_count": 162
        }
      ],
      "source": [
        "split([1, 2, 3, 4], [0, 4, 3, 6, 7, 8, 2])"
      ]
    },
    {
      "cell_type": "code",
      "execution_count": 163,
      "id": "ethical-bradford",
      "metadata": {
        "id": "ethical-bradford"
      },
      "outputs": [],
      "source": [
        "def increase_exponent(poly, n):\n",
        "    \"\"\"Multiply poly1 by x^n\"\"\"\n",
        "    return [0] * n + poly"
      ]
    },
    {
      "cell_type": "code",
      "execution_count": 164,
      "id": "saving-arrangement",
      "metadata": {
        "colab": {
          "base_uri": "https://localhost:8080/"
        },
        "id": "saving-arrangement",
        "outputId": "75b6289a-6816-429c-f488-236277cf3875"
      },
      "outputs": [
        {
          "output_type": "execute_result",
          "data": {
            "text/plain": [
              "[0, 0, 0, 1, 2, 3, 4]"
            ]
          },
          "metadata": {},
          "execution_count": 164
        }
      ],
      "source": [
        "increase_exponent([1, 2, 3, 4], 3)"
      ]
    },
    {
      "cell_type": "markdown",
      "id": "under-effectiveness",
      "metadata": {
        "id": "under-effectiveness"
      },
      "source": [
        "Implement the optimized multiplication algorithm below. You may use the some or all of the helper functions defined above."
      ]
    },
    {
      "cell_type": "code",
      "execution_count": 166,
      "id": "starting-characterization",
      "metadata": {
        "id": "starting-characterization"
      },
      "outputs": [],
      "source": [
        "def multiply_optimized(poly1, poly2):\n",
        "  if poly1==[] or poly2==[]:\n",
        "    return []\n",
        "  elif len(poly1)==1 or len(poly2)==1:\n",
        "    return multiply_basic(poly1,poly2)\n",
        "  else:\n",
        "    (a0,a1),(b0,b1) = split(poly1,poly2)\n",
        "    u = multiply_basic(a0,b0)\n",
        "    z = multiply_basic(a1,b1)\n",
        "    y = add(multiply_basic(a0,b1),multiply_basic(a1,b0))\n",
        "    y = increase_exponent(y,max(len(a0),len(b0)))\n",
        "    z = increase_exponent(z,((len(poly1)+len(poly2)-1)-len(z)))\n",
        "    result = add(u,y)\n",
        "    result = add(result,z)\n",
        "    return result"
      ]
    },
    {
      "cell_type": "code",
      "execution_count": 167,
      "id": "delayed-terrace",
      "metadata": {
        "colab": {
          "base_uri": "https://localhost:8080/"
        },
        "id": "delayed-terrace",
        "outputId": "404d12a8-1156-4e85-af82-9f38aee88d42"
      },
      "outputs": [
        {
          "output_type": "stream",
          "name": "stdout",
          "text": [
            "[6, 8, 19, 41, 38, 14]\n"
          ]
        }
      ],
      "source": [
        "print(multiply_optimized(test0['input']['poly1'],test0['input']['poly2']))"
      ]
    },
    {
      "cell_type": "markdown",
      "id": "novel-scout",
      "metadata": {
        "id": "novel-scout"
      },
      "source": [
        "Test your solution using the empty cells below."
      ]
    },
    {
      "cell_type": "code",
      "execution_count": 168,
      "id": "operating-ecology",
      "metadata": {
        "colab": {
          "base_uri": "https://localhost:8080/"
        },
        "id": "operating-ecology",
        "outputId": "ab1fa640-9801-4d61-ef31-bf9c10ecfb10"
      },
      "outputs": [
        {
          "output_type": "stream",
          "name": "stdout",
          "text": [
            "\n",
            "\u001b[1mTEST CASE #0\u001b[0m\n",
            "\n",
            "Input:\n",
            "{'poly1': [], 'poly2': [2, 1, 4]}\n",
            "\n",
            "Expected Output:\n",
            "[]\n",
            "\n",
            "\n",
            "Actual Output:\n",
            "[]\n",
            "\n",
            "Execution Time:\n",
            "0.003 ms\n",
            "\n",
            "Test Result:\n",
            "\u001b[92mPASSED\u001b[0m\n",
            "\n",
            "\n",
            "\u001b[1mTEST CASE #1\u001b[0m\n",
            "\n",
            "Input:\n",
            "{'poly1': [2], 'poly2': [1, 2, 3]}\n",
            "\n",
            "Expected Output:\n",
            "[2, 4, 6]\n",
            "\n",
            "\n",
            "Actual Output:\n",
            "[2, 4, 6]\n",
            "\n",
            "Execution Time:\n",
            "0.013 ms\n",
            "\n",
            "Test Result:\n",
            "\u001b[92mPASSED\u001b[0m\n",
            "\n",
            "\n",
            "\u001b[1mTEST CASE #2\u001b[0m\n",
            "\n",
            "Input:\n",
            "{'poly1': [1, -2, 3, 1], 'poly2': [1, 2, 3]}\n",
            "\n",
            "Expected Output:\n",
            "[1, 0, 2, 1, 11, 3]\n",
            "\n",
            "\n",
            "Actual Output:\n",
            "[1, 0, 2, 1, 11, 3]\n",
            "\n",
            "Execution Time:\n",
            "0.051 ms\n",
            "\n",
            "Test Result:\n",
            "\u001b[92mPASSED\u001b[0m\n",
            "\n",
            "\n",
            "\u001b[1mTEST CASE #3\u001b[0m\n",
            "\n",
            "Input:\n",
            "{'poly1': [0, 0, 0], 'poly2': [2, 1, 4, 1]}\n",
            "\n",
            "Expected Output:\n",
            "[0, 0, 0, 0, 0, 0]\n",
            "\n",
            "\n",
            "Actual Output:\n",
            "[0, 0, 0, 0, 0, 0]\n",
            "\n",
            "Execution Time:\n",
            "0.045 ms\n",
            "\n",
            "Test Result:\n",
            "\u001b[92mPASSED\u001b[0m\n",
            "\n",
            "\n",
            "\u001b[1mTEST CASE #4\u001b[0m\n",
            "\n",
            "Input:\n",
            "{'poly1': [1, 2, 3], 'poly2': [2, 2, 2, 2]}\n",
            "\n",
            "Expected Output:\n",
            "[2, 6, 12, 12, 10, 6]\n",
            "\n",
            "\n",
            "Actual Output:\n",
            "[2, 6, 12, 12, 10, 6]\n",
            "\n",
            "Execution Time:\n",
            "0.046 ms\n",
            "\n",
            "Test Result:\n",
            "\u001b[92mPASSED\u001b[0m\n",
            "\n",
            "\n",
            "\u001b[1mSUMMARY\u001b[0m\n",
            "\n",
            "TOTAL: 5, \u001b[92mPASSED\u001b[0m: 5, \u001b[91mFAILED\u001b[0m: 0\n"
          ]
        },
        {
          "output_type": "execute_result",
          "data": {
            "text/plain": [
              "[([], True, 0.003),\n",
              " ([2, 4, 6], True, 0.013),\n",
              " ([1, 0, 2, 1, 11, 3], True, 0.051),\n",
              " ([0, 0, 0, 0, 0, 0], True, 0.045),\n",
              " ([2, 6, 12, 12, 10, 6], True, 0.046)]"
            ]
          },
          "metadata": {},
          "execution_count": 168
        }
      ],
      "source": [
        "evaluate_test_cases(multiply_optimized,tests)"
      ]
    },
    {
      "cell_type": "code",
      "execution_count": null,
      "id": "adverse-tamil",
      "metadata": {
        "id": "adverse-tamil"
      },
      "outputs": [],
      "source": [
        ""
      ]
    },
    {
      "cell_type": "code",
      "execution_count": null,
      "id": "local-pharmacology",
      "metadata": {
        "id": "local-pharmacology"
      },
      "outputs": [],
      "source": [
        ""
      ]
    },
    {
      "cell_type": "code",
      "execution_count": null,
      "id": "treated-hayes",
      "metadata": {
        "id": "treated-hayes"
      },
      "outputs": [],
      "source": [
        ""
      ]
    },
    {
      "cell_type": "code",
      "execution_count": null,
      "id": "maritime-yorkshire",
      "metadata": {
        "id": "maritime-yorkshire"
      },
      "outputs": [],
      "source": [
        ""
      ]
    },
    {
      "cell_type": "code",
      "execution_count": null,
      "id": "southwest-aluminum",
      "metadata": {
        "id": "southwest-aluminum"
      },
      "outputs": [],
      "source": [
        ""
      ]
    },
    {
      "cell_type": "code",
      "execution_count": 169,
      "id": "stable-korea",
      "metadata": {
        "id": "stable-korea"
      },
      "outputs": [],
      "source": [
        "import jovian"
      ]
    },
    {
      "cell_type": "code",
      "execution_count": 170,
      "id": "nominated-thousand",
      "metadata": {
        "colab": {
          "base_uri": "https://localhost:8080/",
          "height": 107
        },
        "id": "nominated-thousand",
        "outputId": "9ecdd28b-7d9d-4f2b-875d-674a63c7febe"
      },
      "outputs": [
        {
          "output_type": "stream",
          "name": "stdout",
          "text": [
            "[jovian] Detected Colab notebook...\u001b[0m\n",
            "[jovian] Uploading colab notebook to Jovian...\u001b[0m\n",
            "Committed successfully! https://jovian.ai/prathamesh-kashelikar/python-divide-and-conquer-assignment\n"
          ]
        },
        {
          "output_type": "execute_result",
          "data": {
            "text/plain": [
              "'https://jovian.ai/prathamesh-kashelikar/python-divide-and-conquer-assignment'"
            ],
            "application/vnd.google.colaboratory.intrinsic+json": {
              "type": "string"
            }
          },
          "metadata": {},
          "execution_count": 170
        }
      ],
      "source": [
        "jovian.commit()"
      ]
    },
    {
      "cell_type": "markdown",
      "id": "documented-leisure",
      "metadata": {
        "id": "documented-leisure"
      },
      "source": [
        "## Make a Submission\n",
        "\n",
        "Congrats! You have now implemented hash tables from scratch. The rest of this assignment is optional.\n",
        "\n",
        "You can make a submission on this page: https://jovian.ai/learn/data-structures-and-algorithms-in-python/assignment/assignment-3-sorting-and-divide-conquer-practice\n",
        "\n",
        "Submit the link to your Jovian notebook (the output of the previous cell).\n",
        "You can also make a direct submission by executing the following cell:"
      ]
    },
    {
      "cell_type": "code",
      "execution_count": 171,
      "id": "superior-windows",
      "metadata": {
        "colab": {
          "base_uri": "https://localhost:8080/"
        },
        "id": "superior-windows",
        "outputId": "c106a7b5-5467-40a2-8df4-fb2ca9b25d10"
      },
      "outputs": [
        {
          "output_type": "stream",
          "name": "stdout",
          "text": [
            "[jovian] Detected Colab notebook...\u001b[0m\n",
            "[jovian] Uploading colab notebook to Jovian...\u001b[0m\n",
            "Committed successfully! https://jovian.ai/prathamesh-kashelikar/python-divide-and-conquer-assignment\n",
            "[jovian] Submitting assignment..\u001b[0m\n",
            "[jovian] Verify your submission at https://jovian.ai/learn/data-structures-and-algorithms-in-python/assignment/assignment-3-sorting-and-divide-conquer-practice\u001b[0m\n"
          ]
        }
      ],
      "source": [
        "jovian.submit(assignment=\"pythondsa-assignment3\")"
      ]
    },
    {
      "cell_type": "markdown",
      "id": "early-norfolk",
      "metadata": {
        "id": "early-norfolk"
      },
      "source": [
        "### (Optional) 9. Analyze the algorithm's complexity and identify inefficiencies, if any.\n",
        "\n",
        "Can you analyze the time and space complexity of this algorithm? \n",
        "\n",
        "Hint: See the tree of subproblems below ([source](https://myithelpcentral.blogspot.com/2015/09/o-logn-notation-explanation-for-binary.html)). Substitute the right values for `n` and `b` to determine the time complexity.\n",
        "\n",
        "![](https://i.imgur.com/JAmZrE5.png)"
      ]
    },
    {
      "cell_type": "code",
      "execution_count": 172,
      "id": "controlling-merchandise",
      "metadata": {
        "id": "controlling-merchandise"
      },
      "outputs": [],
      "source": [
        "import jovian"
      ]
    },
    {
      "cell_type": "code",
      "execution_count": 173,
      "id": "ranging-testing",
      "metadata": {
        "colab": {
          "base_uri": "https://localhost:8080/",
          "height": 107
        },
        "id": "ranging-testing",
        "outputId": "7b73868c-c07e-4beb-b33a-f2378828625c"
      },
      "outputs": [
        {
          "output_type": "stream",
          "name": "stdout",
          "text": [
            "[jovian] Detected Colab notebook...\u001b[0m\n",
            "[jovian] Uploading colab notebook to Jovian...\u001b[0m\n",
            "Committed successfully! https://jovian.ai/prathamesh-kashelikar/python-divide-and-conquer-assignment\n"
          ]
        },
        {
          "output_type": "execute_result",
          "data": {
            "text/plain": [
              "'https://jovian.ai/prathamesh-kashelikar/python-divide-and-conquer-assignment'"
            ],
            "application/vnd.google.colaboratory.intrinsic+json": {
              "type": "string"
            }
          },
          "metadata": {},
          "execution_count": 173
        }
      ],
      "source": [
        "jovian.commit()"
      ]
    }
  ],
  "metadata": {
    "kernelspec": {
      "display_name": "Python 3",
      "language": "python",
      "name": "python3"
    },
    "language_info": {
      "codemirror_mode": {
        "name": "ipython",
        "version": 3
      },
      "file_extension": ".py",
      "mimetype": "text/x-python",
      "name": "python",
      "nbconvert_exporter": "python",
      "pygments_lexer": "ipython3",
      "version": "3.6.12"
    },
    "colab": {
      "name": "python-divide-and-conquer-assignment.ipynb",
      "provenance": [],
      "include_colab_link": true
    }
  },
  "nbformat": 4,
  "nbformat_minor": 5
}